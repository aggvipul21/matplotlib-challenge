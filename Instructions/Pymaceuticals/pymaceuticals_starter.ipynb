{
 "cells": [
  {
   "cell_type": "markdown",
   "metadata": {},
   "source": [
    "## Observations and Insights "
   ]
  },
  {
   "cell_type": "markdown",
   "metadata": {},
   "source": [
    "* Capomulin drug has been very effective and reduced the growth of Tumor volume with the usage of drug over time as can be observed in plot of Time Point vs Tumor Volume for Capomulin regime.\n",
    "* The mouse weight growth has positive correlation of 0.84 with average tumor volume growth and since value is very close to 1, it signifies that correlation is very close to being perfect.\n",
    "* The highest number of mice have been tested using Capomulin follwed closely by Ramicance. The mice count has been on average side for other drugs except for Propriva, the testing has been very poor in case of propriva.\n",
    "* The perecnetage of male and female mice is almost same (close to 50%), hence the imapct of sex of mice is very low.\n",
    "* There is only one outlier in case of drug- Infubinol for Tumor Volume sample for final test among the best four drug regimen. This means that Tumor Volume is normally distributed for different mouses in these 4 drugs  'Capomulin', 'Ramicane', 'Infubinol', 'Ceftamin'."
   ]
  },
  {
   "cell_type": "code",
   "execution_count": 1,
   "metadata": {},
   "outputs": [],
   "source": [
    "# Dependencies and Setup\n",
    "\n",
    "import matplotlib.pyplot as plt\n",
    "import pandas as pd\n",
    "import scipy.stats as st\n",
    "import numpy as np\n",
    "\n",
    "\n"
   ]
  },
  {
   "cell_type": "code",
   "execution_count": 2,
   "metadata": {},
   "outputs": [],
   "source": [
    "# Study data files\n",
    "mouse_metadata_path = \"data/Mouse_metadata.csv\"\n",
    "study_results_path = \"data/Study_results.csv\"\n",
    "\n",
    "# Read the mouse data and the study results\n",
    "mouse_metadata = pd.read_csv(mouse_metadata_path)\n",
    "study_results = pd.read_csv(study_results_path)\n",
    "\n"
   ]
  },
  {
   "cell_type": "code",
   "execution_count": 3,
   "metadata": {},
   "outputs": [
    {
     "data": {
      "text/html": [
       "<div>\n",
       "<style scoped>\n",
       "    .dataframe tbody tr th:only-of-type {\n",
       "        vertical-align: middle;\n",
       "    }\n",
       "\n",
       "    .dataframe tbody tr th {\n",
       "        vertical-align: top;\n",
       "    }\n",
       "\n",
       "    .dataframe thead th {\n",
       "        text-align: right;\n",
       "    }\n",
       "</style>\n",
       "<table border=\"1\" class=\"dataframe\">\n",
       "  <thead>\n",
       "    <tr style=\"text-align: right;\">\n",
       "      <th></th>\n",
       "      <th>Mouse ID</th>\n",
       "      <th>Drug Regimen</th>\n",
       "      <th>Sex</th>\n",
       "      <th>Age_months</th>\n",
       "      <th>Weight (g)</th>\n",
       "    </tr>\n",
       "  </thead>\n",
       "  <tbody>\n",
       "    <tr>\n",
       "      <th>0</th>\n",
       "      <td>k403</td>\n",
       "      <td>Ramicane</td>\n",
       "      <td>Male</td>\n",
       "      <td>21</td>\n",
       "      <td>16</td>\n",
       "    </tr>\n",
       "    <tr>\n",
       "      <th>1</th>\n",
       "      <td>s185</td>\n",
       "      <td>Capomulin</td>\n",
       "      <td>Female</td>\n",
       "      <td>3</td>\n",
       "      <td>17</td>\n",
       "    </tr>\n",
       "    <tr>\n",
       "      <th>2</th>\n",
       "      <td>x401</td>\n",
       "      <td>Capomulin</td>\n",
       "      <td>Female</td>\n",
       "      <td>16</td>\n",
       "      <td>15</td>\n",
       "    </tr>\n",
       "    <tr>\n",
       "      <th>3</th>\n",
       "      <td>m601</td>\n",
       "      <td>Capomulin</td>\n",
       "      <td>Male</td>\n",
       "      <td>22</td>\n",
       "      <td>17</td>\n",
       "    </tr>\n",
       "    <tr>\n",
       "      <th>4</th>\n",
       "      <td>g791</td>\n",
       "      <td>Ramicane</td>\n",
       "      <td>Male</td>\n",
       "      <td>11</td>\n",
       "      <td>16</td>\n",
       "    </tr>\n",
       "  </tbody>\n",
       "</table>\n",
       "</div>"
      ],
      "text/plain": [
       "  Mouse ID Drug Regimen     Sex  Age_months  Weight (g)\n",
       "0     k403     Ramicane    Male          21          16\n",
       "1     s185    Capomulin  Female           3          17\n",
       "2     x401    Capomulin  Female          16          15\n",
       "3     m601    Capomulin    Male          22          17\n",
       "4     g791     Ramicane    Male          11          16"
      ]
     },
     "execution_count": 3,
     "metadata": {},
     "output_type": "execute_result"
    }
   ],
   "source": [
    "mouse_metadata.head()"
   ]
  },
  {
   "cell_type": "code",
   "execution_count": 4,
   "metadata": {},
   "outputs": [
    {
     "data": {
      "text/html": [
       "<div>\n",
       "<style scoped>\n",
       "    .dataframe tbody tr th:only-of-type {\n",
       "        vertical-align: middle;\n",
       "    }\n",
       "\n",
       "    .dataframe tbody tr th {\n",
       "        vertical-align: top;\n",
       "    }\n",
       "\n",
       "    .dataframe thead th {\n",
       "        text-align: right;\n",
       "    }\n",
       "</style>\n",
       "<table border=\"1\" class=\"dataframe\">\n",
       "  <thead>\n",
       "    <tr style=\"text-align: right;\">\n",
       "      <th></th>\n",
       "      <th>Mouse ID</th>\n",
       "      <th>Timepoint</th>\n",
       "      <th>Tumor Volume (mm3)</th>\n",
       "      <th>Metastatic Sites</th>\n",
       "    </tr>\n",
       "  </thead>\n",
       "  <tbody>\n",
       "    <tr>\n",
       "      <th>0</th>\n",
       "      <td>b128</td>\n",
       "      <td>0</td>\n",
       "      <td>45.0</td>\n",
       "      <td>0</td>\n",
       "    </tr>\n",
       "    <tr>\n",
       "      <th>1</th>\n",
       "      <td>f932</td>\n",
       "      <td>0</td>\n",
       "      <td>45.0</td>\n",
       "      <td>0</td>\n",
       "    </tr>\n",
       "    <tr>\n",
       "      <th>2</th>\n",
       "      <td>g107</td>\n",
       "      <td>0</td>\n",
       "      <td>45.0</td>\n",
       "      <td>0</td>\n",
       "    </tr>\n",
       "    <tr>\n",
       "      <th>3</th>\n",
       "      <td>a457</td>\n",
       "      <td>0</td>\n",
       "      <td>45.0</td>\n",
       "      <td>0</td>\n",
       "    </tr>\n",
       "    <tr>\n",
       "      <th>4</th>\n",
       "      <td>c819</td>\n",
       "      <td>0</td>\n",
       "      <td>45.0</td>\n",
       "      <td>0</td>\n",
       "    </tr>\n",
       "  </tbody>\n",
       "</table>\n",
       "</div>"
      ],
      "text/plain": [
       "  Mouse ID  Timepoint  Tumor Volume (mm3)  Metastatic Sites\n",
       "0     b128          0                45.0                 0\n",
       "1     f932          0                45.0                 0\n",
       "2     g107          0                45.0                 0\n",
       "3     a457          0                45.0                 0\n",
       "4     c819          0                45.0                 0"
      ]
     },
     "execution_count": 4,
     "metadata": {},
     "output_type": "execute_result"
    }
   ],
   "source": [
    "study_results.head()"
   ]
  },
  {
   "cell_type": "code",
   "execution_count": 5,
   "metadata": {},
   "outputs": [
    {
     "data": {
      "text/plain": [
       "Mouse ID              1893\n",
       "Drug Regimen          1893\n",
       "Sex                   1893\n",
       "Age_months            1893\n",
       "Weight (g)            1893\n",
       "Timepoint             1893\n",
       "Tumor Volume (mm3)    1893\n",
       "Metastatic Sites      1893\n",
       "dtype: int64"
      ]
     },
     "execution_count": 5,
     "metadata": {},
     "output_type": "execute_result"
    }
   ],
   "source": [
    "# Combine the data into a single dataset\n",
    "merged_data_df=pd.merge(mouse_metadata,study_results,on=\"Mouse ID\",how=\"left\")\n",
    "#merged_data_df.head(100)\n",
    "merged_data_df.count()\n",
    "\n"
   ]
  },
  {
   "cell_type": "code",
   "execution_count": 6,
   "metadata": {},
   "outputs": [
    {
     "data": {
      "text/plain": [
       "g989    13\n",
       "c559    10\n",
       "s565    10\n",
       "a251    10\n",
       "t718    10\n",
       "        ..\n",
       "x226     1\n",
       "l872     1\n",
       "t573     1\n",
       "d133     1\n",
       "o848     1\n",
       "Name: Mouse ID, Length: 249, dtype: int64"
      ]
     },
     "execution_count": 6,
     "metadata": {},
     "output_type": "execute_result"
    }
   ],
   "source": [
    "# Checking the number of mice in the DataFrame.\n",
    "merged_data_df[\"Mouse ID\"].value_counts()\n",
    "#merged_data_df[merged_data_df[\"Mouse ID\"]=='k382'].head(20)"
   ]
  },
  {
   "cell_type": "code",
   "execution_count": 7,
   "metadata": {
    "scrolled": true
   },
   "outputs": [
    {
     "data": {
      "text/plain": [
       "array(['g989'], dtype=object)"
      ]
     },
     "execution_count": 7,
     "metadata": {},
     "output_type": "execute_result"
    }
   ],
   "source": [
    "# Getting the duplicate mice by ID number that shows up for Mouse ID and Timepoint. \n",
    "#Creating a copy of dataframe for use through out the notebook\n",
    "training_data_copy=merged_data_df.copy()\n",
    "\n",
    "training_data_copy[training_data_copy.duplicated([\"Mouse ID\",\"Timepoint\"],keep=False)]\n",
    "training_data_copy[training_data_copy.duplicated([\"Mouse ID\",\"Timepoint\"])][\"Mouse ID\"]\n",
    "\n",
    "#Finding the Mouse ID which has duplicate data for a Mouse ID and Timepoint\n",
    "dup_mouse=training_data_copy.loc[training_data_copy.duplicated([\"Mouse ID\",\"Timepoint\"])][\"Mouse ID\"].unique()\n",
    "\n",
    "dup_mouse"
   ]
  },
  {
   "cell_type": "code",
   "execution_count": 8,
   "metadata": {},
   "outputs": [
    {
     "data": {
      "text/html": [
       "<div>\n",
       "<style scoped>\n",
       "    .dataframe tbody tr th:only-of-type {\n",
       "        vertical-align: middle;\n",
       "    }\n",
       "\n",
       "    .dataframe tbody tr th {\n",
       "        vertical-align: top;\n",
       "    }\n",
       "\n",
       "    .dataframe thead th {\n",
       "        text-align: right;\n",
       "    }\n",
       "</style>\n",
       "<table border=\"1\" class=\"dataframe\">\n",
       "  <thead>\n",
       "    <tr style=\"text-align: right;\">\n",
       "      <th></th>\n",
       "      <th>Mouse ID</th>\n",
       "      <th>Drug Regimen</th>\n",
       "      <th>Sex</th>\n",
       "      <th>Age_months</th>\n",
       "      <th>Weight (g)</th>\n",
       "      <th>Timepoint</th>\n",
       "      <th>TumorVolume</th>\n",
       "      <th>Metastatic Sites</th>\n",
       "    </tr>\n",
       "  </thead>\n",
       "  <tbody>\n",
       "    <tr>\n",
       "      <th>0</th>\n",
       "      <td>k403</td>\n",
       "      <td>Ramicane</td>\n",
       "      <td>Male</td>\n",
       "      <td>21</td>\n",
       "      <td>16</td>\n",
       "      <td>0</td>\n",
       "      <td>45.000000</td>\n",
       "      <td>0</td>\n",
       "    </tr>\n",
       "    <tr>\n",
       "      <th>1</th>\n",
       "      <td>k403</td>\n",
       "      <td>Ramicane</td>\n",
       "      <td>Male</td>\n",
       "      <td>21</td>\n",
       "      <td>16</td>\n",
       "      <td>5</td>\n",
       "      <td>38.825898</td>\n",
       "      <td>0</td>\n",
       "    </tr>\n",
       "    <tr>\n",
       "      <th>2</th>\n",
       "      <td>k403</td>\n",
       "      <td>Ramicane</td>\n",
       "      <td>Male</td>\n",
       "      <td>21</td>\n",
       "      <td>16</td>\n",
       "      <td>10</td>\n",
       "      <td>35.014271</td>\n",
       "      <td>1</td>\n",
       "    </tr>\n",
       "    <tr>\n",
       "      <th>3</th>\n",
       "      <td>k403</td>\n",
       "      <td>Ramicane</td>\n",
       "      <td>Male</td>\n",
       "      <td>21</td>\n",
       "      <td>16</td>\n",
       "      <td>15</td>\n",
       "      <td>34.223992</td>\n",
       "      <td>1</td>\n",
       "    </tr>\n",
       "    <tr>\n",
       "      <th>4</th>\n",
       "      <td>k403</td>\n",
       "      <td>Ramicane</td>\n",
       "      <td>Male</td>\n",
       "      <td>21</td>\n",
       "      <td>16</td>\n",
       "      <td>20</td>\n",
       "      <td>32.997729</td>\n",
       "      <td>1</td>\n",
       "    </tr>\n",
       "  </tbody>\n",
       "</table>\n",
       "</div>"
      ],
      "text/plain": [
       "  Mouse ID Drug Regimen   Sex  Age_months  Weight (g)  Timepoint  TumorVolume  \\\n",
       "0     k403     Ramicane  Male          21          16          0    45.000000   \n",
       "1     k403     Ramicane  Male          21          16          5    38.825898   \n",
       "2     k403     Ramicane  Male          21          16         10    35.014271   \n",
       "3     k403     Ramicane  Male          21          16         15    34.223992   \n",
       "4     k403     Ramicane  Male          21          16         20    32.997729   \n",
       "\n",
       "   Metastatic Sites  \n",
       "0                 0  \n",
       "1                 0  \n",
       "2                 1  \n",
       "3                 1  \n",
       "4                 1  "
      ]
     },
     "execution_count": 8,
     "metadata": {},
     "output_type": "execute_result"
    }
   ],
   "source": [
    "# Optional: Get all the data for the duplicate mouse ID. \n",
    "#training_data_copy=training_data_copy[~(training_data_copy[\"Mouse ID\"].isin (training_data_copy[training_data_copy.duplicated([\"Mouse ID\",\"Timepoint\"])][\"Mouse ID\"]))]\n",
    "training_data_copy.query('`Mouse ID` not in (@dup_mouse)',inplace=True)\n",
    "\n",
    "#Renaming column \"Tumor Volume (mm3)\" to \"TumorVolume\" for usage later\n",
    "training_data_copy.rename(columns={\"Tumor Volume (mm3)\":\"TumorVolume\"},inplace=True)\n",
    "training_data_copy.head()"
   ]
  },
  {
   "cell_type": "code",
   "execution_count": 9,
   "metadata": {},
   "outputs": [
    {
     "data": {
      "text/plain": [
       "248"
      ]
     },
     "execution_count": 9,
     "metadata": {},
     "output_type": "execute_result"
    }
   ],
   "source": [
    "# Checking the number of mice in the clean DataFrame.\n",
    "\n",
    "training_data_copy[\"Mouse ID\"].nunique()"
   ]
  },
  {
   "cell_type": "markdown",
   "metadata": {},
   "source": [
    "## Summary Statistics"
   ]
  },
  {
   "cell_type": "code",
   "execution_count": 10,
   "metadata": {},
   "outputs": [
    {
     "data": {
      "text/html": [
       "<div>\n",
       "<style scoped>\n",
       "    .dataframe tbody tr th:only-of-type {\n",
       "        vertical-align: middle;\n",
       "    }\n",
       "\n",
       "    .dataframe tbody tr th {\n",
       "        vertical-align: top;\n",
       "    }\n",
       "\n",
       "    .dataframe thead th {\n",
       "        text-align: right;\n",
       "    }\n",
       "</style>\n",
       "<table border=\"1\" class=\"dataframe\">\n",
       "  <thead>\n",
       "    <tr style=\"text-align: right;\">\n",
       "      <th></th>\n",
       "      <th>Tumor Volume Mean</th>\n",
       "      <th>Tumor Volume Median</th>\n",
       "      <th>Tumor Volume Variance</th>\n",
       "      <th>Tumor Volume Standard Deviation</th>\n",
       "      <th>Tumor Volume SEM</th>\n",
       "    </tr>\n",
       "    <tr>\n",
       "      <th>Drug Regimen</th>\n",
       "      <th></th>\n",
       "      <th></th>\n",
       "      <th></th>\n",
       "      <th></th>\n",
       "      <th></th>\n",
       "    </tr>\n",
       "  </thead>\n",
       "  <tbody>\n",
       "    <tr>\n",
       "      <th>Capomulin</th>\n",
       "      <td>40.675741</td>\n",
       "      <td>41.557809</td>\n",
       "      <td>24.947764</td>\n",
       "      <td>4.994774</td>\n",
       "      <td>0.329346</td>\n",
       "    </tr>\n",
       "    <tr>\n",
       "      <th>Ceftamin</th>\n",
       "      <td>52.591172</td>\n",
       "      <td>51.776157</td>\n",
       "      <td>39.290177</td>\n",
       "      <td>6.268188</td>\n",
       "      <td>0.469821</td>\n",
       "    </tr>\n",
       "    <tr>\n",
       "      <th>Infubinol</th>\n",
       "      <td>52.884795</td>\n",
       "      <td>51.820584</td>\n",
       "      <td>43.128684</td>\n",
       "      <td>6.567243</td>\n",
       "      <td>0.492236</td>\n",
       "    </tr>\n",
       "    <tr>\n",
       "      <th>Ketapril</th>\n",
       "      <td>55.235638</td>\n",
       "      <td>53.698743</td>\n",
       "      <td>68.553577</td>\n",
       "      <td>8.279709</td>\n",
       "      <td>0.603860</td>\n",
       "    </tr>\n",
       "    <tr>\n",
       "      <th>Naftisol</th>\n",
       "      <td>54.331565</td>\n",
       "      <td>52.509285</td>\n",
       "      <td>66.173479</td>\n",
       "      <td>8.134708</td>\n",
       "      <td>0.596466</td>\n",
       "    </tr>\n",
       "    <tr>\n",
       "      <th>Placebo</th>\n",
       "      <td>54.033581</td>\n",
       "      <td>52.288934</td>\n",
       "      <td>61.168083</td>\n",
       "      <td>7.821003</td>\n",
       "      <td>0.581331</td>\n",
       "    </tr>\n",
       "    <tr>\n",
       "      <th>Propriva</th>\n",
       "      <td>52.320930</td>\n",
       "      <td>50.446266</td>\n",
       "      <td>43.852013</td>\n",
       "      <td>6.622085</td>\n",
       "      <td>0.544332</td>\n",
       "    </tr>\n",
       "    <tr>\n",
       "      <th>Ramicane</th>\n",
       "      <td>40.216745</td>\n",
       "      <td>40.673236</td>\n",
       "      <td>23.486704</td>\n",
       "      <td>4.846308</td>\n",
       "      <td>0.320955</td>\n",
       "    </tr>\n",
       "    <tr>\n",
       "      <th>Stelasyn</th>\n",
       "      <td>54.233149</td>\n",
       "      <td>52.431737</td>\n",
       "      <td>59.450562</td>\n",
       "      <td>7.710419</td>\n",
       "      <td>0.573111</td>\n",
       "    </tr>\n",
       "    <tr>\n",
       "      <th>Zoniferol</th>\n",
       "      <td>53.236507</td>\n",
       "      <td>51.818479</td>\n",
       "      <td>48.533355</td>\n",
       "      <td>6.966589</td>\n",
       "      <td>0.516398</td>\n",
       "    </tr>\n",
       "  </tbody>\n",
       "</table>\n",
       "</div>"
      ],
      "text/plain": [
       "              Tumor Volume Mean  Tumor Volume Median  Tumor Volume Variance  \\\n",
       "Drug Regimen                                                                  \n",
       "Capomulin             40.675741            41.557809              24.947764   \n",
       "Ceftamin              52.591172            51.776157              39.290177   \n",
       "Infubinol             52.884795            51.820584              43.128684   \n",
       "Ketapril              55.235638            53.698743              68.553577   \n",
       "Naftisol              54.331565            52.509285              66.173479   \n",
       "Placebo               54.033581            52.288934              61.168083   \n",
       "Propriva              52.320930            50.446266              43.852013   \n",
       "Ramicane              40.216745            40.673236              23.486704   \n",
       "Stelasyn              54.233149            52.431737              59.450562   \n",
       "Zoniferol             53.236507            51.818479              48.533355   \n",
       "\n",
       "              Tumor Volume Standard Deviation  Tumor Volume SEM  \n",
       "Drug Regimen                                                     \n",
       "Capomulin                            4.994774          0.329346  \n",
       "Ceftamin                             6.268188          0.469821  \n",
       "Infubinol                            6.567243          0.492236  \n",
       "Ketapril                             8.279709          0.603860  \n",
       "Naftisol                             8.134708          0.596466  \n",
       "Placebo                              7.821003          0.581331  \n",
       "Propriva                             6.622085          0.544332  \n",
       "Ramicane                             4.846308          0.320955  \n",
       "Stelasyn                             7.710419          0.573111  \n",
       "Zoniferol                            6.966589          0.516398  "
      ]
     },
     "execution_count": 10,
     "metadata": {},
     "output_type": "execute_result"
    }
   ],
   "source": [
    "# Generate a summary statistics table of mean, median, variance, standard deviation, and SEM of the tumor volume for each regimen\n",
    "\n",
    "# This method is the most straightforward, creating multiple series and putting them all together at the end.\n",
    "\n",
    "regimen_tumor_mean=training_data_copy.groupby('Drug Regimen')[\"TumorVolume\"].mean()\n",
    "\n",
    "regimen_tumor_median=training_data_copy.groupby('Drug Regimen')[\"TumorVolume\"].median()\n",
    "\n",
    "regimen_tumor_var=training_data_copy.groupby('Drug Regimen')[\"TumorVolume\"].var()\n",
    "\n",
    "regimen_tumor_std=training_data_copy.groupby('Drug Regimen')[\"TumorVolume\"].std()\n",
    "\n",
    "regimen_tumor_sem=training_data_copy.groupby('Drug Regimen')[\"TumorVolume\"].sem()\n",
    "\n",
    "regimen_tumor_stats=pd.DataFrame({\"Tumor Volume Mean\":regimen_tumor_mean\n",
    "                                  ,\"Tumor Volume Median\":regimen_tumor_median\n",
    "                                  ,\"Tumor Volume Variance\":regimen_tumor_var\n",
    "                                    ,\"Tumor Volume Standard Deviation\":regimen_tumor_std\n",
    "                                  ,\"Tumor Volume SEM\":regimen_tumor_sem\n",
    "                                })\n",
    "\n",
    "regimen_tumor_stats"
   ]
  },
  {
   "cell_type": "code",
   "execution_count": 11,
   "metadata": {
    "scrolled": true
   },
   "outputs": [
    {
     "data": {
      "text/html": [
       "<div>\n",
       "<style scoped>\n",
       "    .dataframe tbody tr th:only-of-type {\n",
       "        vertical-align: middle;\n",
       "    }\n",
       "\n",
       "    .dataframe tbody tr th {\n",
       "        vertical-align: top;\n",
       "    }\n",
       "\n",
       "    .dataframe thead th {\n",
       "        text-align: right;\n",
       "    }\n",
       "</style>\n",
       "<table border=\"1\" class=\"dataframe\">\n",
       "  <thead>\n",
       "    <tr style=\"text-align: right;\">\n",
       "      <th></th>\n",
       "      <th>Tumor Volume Mean</th>\n",
       "      <th>Tumor Volume Median</th>\n",
       "      <th>Tumor Volume Variance</th>\n",
       "      <th>Tumor Volume Standard Deviation</th>\n",
       "      <th>Tumor Volume SEM</th>\n",
       "    </tr>\n",
       "    <tr>\n",
       "      <th>Drug Regimen</th>\n",
       "      <th></th>\n",
       "      <th></th>\n",
       "      <th></th>\n",
       "      <th></th>\n",
       "      <th></th>\n",
       "    </tr>\n",
       "  </thead>\n",
       "  <tbody>\n",
       "    <tr>\n",
       "      <th>Capomulin</th>\n",
       "      <td>40.675741</td>\n",
       "      <td>41.557809</td>\n",
       "      <td>24.947764</td>\n",
       "      <td>4.994774</td>\n",
       "      <td>0.329346</td>\n",
       "    </tr>\n",
       "    <tr>\n",
       "      <th>Ceftamin</th>\n",
       "      <td>52.591172</td>\n",
       "      <td>51.776157</td>\n",
       "      <td>39.290177</td>\n",
       "      <td>6.268188</td>\n",
       "      <td>0.469821</td>\n",
       "    </tr>\n",
       "    <tr>\n",
       "      <th>Infubinol</th>\n",
       "      <td>52.884795</td>\n",
       "      <td>51.820584</td>\n",
       "      <td>43.128684</td>\n",
       "      <td>6.567243</td>\n",
       "      <td>0.492236</td>\n",
       "    </tr>\n",
       "    <tr>\n",
       "      <th>Ketapril</th>\n",
       "      <td>55.235638</td>\n",
       "      <td>53.698743</td>\n",
       "      <td>68.553577</td>\n",
       "      <td>8.279709</td>\n",
       "      <td>0.603860</td>\n",
       "    </tr>\n",
       "    <tr>\n",
       "      <th>Naftisol</th>\n",
       "      <td>54.331565</td>\n",
       "      <td>52.509285</td>\n",
       "      <td>66.173479</td>\n",
       "      <td>8.134708</td>\n",
       "      <td>0.596466</td>\n",
       "    </tr>\n",
       "    <tr>\n",
       "      <th>Placebo</th>\n",
       "      <td>54.033581</td>\n",
       "      <td>52.288934</td>\n",
       "      <td>61.168083</td>\n",
       "      <td>7.821003</td>\n",
       "      <td>0.581331</td>\n",
       "    </tr>\n",
       "    <tr>\n",
       "      <th>Propriva</th>\n",
       "      <td>52.320930</td>\n",
       "      <td>50.446266</td>\n",
       "      <td>43.852013</td>\n",
       "      <td>6.622085</td>\n",
       "      <td>0.544332</td>\n",
       "    </tr>\n",
       "    <tr>\n",
       "      <th>Ramicane</th>\n",
       "      <td>40.216745</td>\n",
       "      <td>40.673236</td>\n",
       "      <td>23.486704</td>\n",
       "      <td>4.846308</td>\n",
       "      <td>0.320955</td>\n",
       "    </tr>\n",
       "    <tr>\n",
       "      <th>Stelasyn</th>\n",
       "      <td>54.233149</td>\n",
       "      <td>52.431737</td>\n",
       "      <td>59.450562</td>\n",
       "      <td>7.710419</td>\n",
       "      <td>0.573111</td>\n",
       "    </tr>\n",
       "    <tr>\n",
       "      <th>Zoniferol</th>\n",
       "      <td>53.236507</td>\n",
       "      <td>51.818479</td>\n",
       "      <td>48.533355</td>\n",
       "      <td>6.966589</td>\n",
       "      <td>0.516398</td>\n",
       "    </tr>\n",
       "  </tbody>\n",
       "</table>\n",
       "</div>"
      ],
      "text/plain": [
       "              Tumor Volume Mean  Tumor Volume Median  Tumor Volume Variance  \\\n",
       "Drug Regimen                                                                  \n",
       "Capomulin             40.675741            41.557809              24.947764   \n",
       "Ceftamin              52.591172            51.776157              39.290177   \n",
       "Infubinol             52.884795            51.820584              43.128684   \n",
       "Ketapril              55.235638            53.698743              68.553577   \n",
       "Naftisol              54.331565            52.509285              66.173479   \n",
       "Placebo               54.033581            52.288934              61.168083   \n",
       "Propriva              52.320930            50.446266              43.852013   \n",
       "Ramicane              40.216745            40.673236              23.486704   \n",
       "Stelasyn              54.233149            52.431737              59.450562   \n",
       "Zoniferol             53.236507            51.818479              48.533355   \n",
       "\n",
       "              Tumor Volume Standard Deviation  Tumor Volume SEM  \n",
       "Drug Regimen                                                     \n",
       "Capomulin                            4.994774          0.329346  \n",
       "Ceftamin                             6.268188          0.469821  \n",
       "Infubinol                            6.567243          0.492236  \n",
       "Ketapril                             8.279709          0.603860  \n",
       "Naftisol                             8.134708          0.596466  \n",
       "Placebo                              7.821003          0.581331  \n",
       "Propriva                             6.622085          0.544332  \n",
       "Ramicane                             4.846308          0.320955  \n",
       "Stelasyn                             7.710419          0.573111  \n",
       "Zoniferol                            6.966589          0.516398  "
      ]
     },
     "execution_count": 11,
     "metadata": {},
     "output_type": "execute_result"
    }
   ],
   "source": [
    "# Generate a summary statistics table of mean, median, variance, standard deviation, and SEM of the tumor volume for each regimen\n",
    "\n",
    "# This method produces everything in a single groupby function.\n",
    "regimen_tumor_stats=training_data_copy.groupby('Drug Regimen')[\"TumorVolume\"].agg([\"mean\",\"median\",\"var\",\"std\",\"sem\"])\n",
    "regimen_tumor_stats.columns=[\"Tumor Volume Mean\", \"Tumor Volume Median\",\"Tumor Volume Variance\",\"Tumor Volume Standard Deviation\",\"Tumor Volume SEM\"]\n",
    "regimen_tumor_stats\n",
    "\n"
   ]
  },
  {
   "cell_type": "markdown",
   "metadata": {},
   "source": [
    "## Bar Plots"
   ]
  },
  {
   "cell_type": "code",
   "execution_count": 12,
   "metadata": {},
   "outputs": [
    {
     "data": {
      "text/plain": [
       "(138, 240)"
      ]
     },
     "execution_count": 12,
     "metadata": {},
     "output_type": "execute_result"
    },
    {
     "data": {
      "image/png": "[encoded data removed]",
      "text/plain": [
       "<Figure size 432x288 with 1 Axes>"
      ]
     },
     "metadata": {
      "needs_background": "light"
     },
     "output_type": "display_data"
    }
   ],
   "source": [
    "# Generate a bar plot showing the number of mice per time point for each treatment throughout the course of the study using pandas.\n",
    "\n",
    "mouse_count_regimen=pd.DataFrame(training_data_copy[\"Drug Regimen\"].value_counts())\n",
    "#mouse_count_regimen.reset_index(inplace=True)\n",
    "mouse_count_regimen.columns=['Mouse Count']\n",
    "\n",
    "\n",
    "#Plot graph\n",
    "ax=mouse_count_regimen.plot(kind=\"bar\",facecolor=\"red\",legend=False,title=\"Mice Count vs Data Regimen\"\\\n",
    "                         ,label=[\"Data Regimen\",\"Mice count\"])\n",
    "#Set x-label, y-label and title for the chart\n",
    "ax.set_xlabel(\"Data Regimen\")\n",
    "ax.set_ylabel(\"Mice count\")\n",
    "ax.set_title(\"Data Regimen vs Mice count\")\n",
    "\n",
    "#Set ylim\n",
    "ax.set_ylim(min(mouse_count_regimen[\"Mouse Count\"])-10,max(mouse_count_regimen[\"Mouse Count\"])+10)\n",
    "\n",
    " \n",
    "\n"
   ]
  },
  {
   "cell_type": "code",
   "execution_count": 13,
   "metadata": {
    "scrolled": true
   },
   "outputs": [
    {
     "data": {
      "image/png": "[encoded data removed]",
      "text/plain": [
       "<Figure size 432x288 with 1 Axes>"
      ]
     },
     "metadata": {
      "needs_background": "light"
     },
     "output_type": "display_data"
    }
   ],
   "source": [
    "# Generate a bar plot showing the number of mice per time point for each treatment throughout the course of the study using pyplot.\n",
    "\n",
    "x_axis=np.arange(training_data_copy[\"Drug Regimen\"].nunique())\n",
    "#print(x_axis)\n",
    "\n",
    "mouse_count_regimen=pd.DataFrame(training_data_copy[\"Drug Regimen\"].value_counts())\n",
    "mouse_count_regimen.reset_index(inplace=True)\n",
    "mouse_count_regimen.columns=['Drug Regimen','Mouse Count']\n",
    "\n",
    "\n",
    "#Plot graph\n",
    "plt.bar(x_axis,mouse_count_regimen[\"Mouse Count\"],color='r',alpha=1.0,align='center',width=0.5)\n",
    "\n",
    "#Set tick locations\n",
    "tick_locations = [value for value in x_axis]\n",
    "plt.xticks(tick_locations, mouse_count_regimen[\"Drug Regimen\"],rotation=90)\n",
    "\n",
    "#Set x-label, y-label and title for the chart\n",
    "plt.title(\"Data Regimen vs Mice Count\")\n",
    "plt.xlabel(\"Data Regimen\")\n",
    "plt.ylabel(\"Mice count\")\n",
    "\n",
    "#Set ylim\n",
    "plt.ylim(min(mouse_count_regimen[\"Mouse Count\"])-10,max(mouse_count_regimen[\"Mouse Count\"])+10)\n",
    "\n",
    "#Fit the chart\n",
    "plt.tight_layout()\n",
    "\n",
    "plt.show()\n",
    "\n"
   ]
  },
  {
   "cell_type": "markdown",
   "metadata": {},
   "source": [
    "## Pie Plots"
   ]
  },
  {
   "cell_type": "code",
   "execution_count": 14,
   "metadata": {},
   "outputs": [
    {
     "data": {
      "text/plain": [
       "<matplotlib.axes._subplots.AxesSubplot at 0x222194d7ec8>"
      ]
     },
     "execution_count": 14,
     "metadata": {},
     "output_type": "execute_result"
    },
    {
     "data": {
      "image/png": "[encoded data removed]",
      "text/plain": [
       "<Figure size 432x288 with 1 Axes>"
      ]
     },
     "metadata": {},
     "output_type": "display_data"
    }
   ],
   "source": [
    "# Generate a pie plot showing the distribution of female versus male mice using pandas\n",
    "\n",
    "mice_sex_df=pd.DataFrame(training_data_copy['Sex'].value_counts())\n",
    "#mice_sex_df.reset_index(inplace=True)\n",
    "mice_sex_df.columns=[\"Count\"]\n",
    "#mice_sex_df.head()\n",
    "\n",
    "#Plot parameters\n",
    "colors=['blue','yellow']\n",
    "\n",
    "mice_sex_df.plot(kind=\"pie\",y=\"Count\",colors=colors,autopct=\"%1.2f%%\", \n",
    "                 shadow=True, startangle=140,legend=False,title=\"Female vs Male Distribution\")\n"
   ]
  },
  {
   "cell_type": "code",
   "execution_count": 15,
   "metadata": {},
   "outputs": [
    {
     "data": {
      "text/plain": [
       "Text(0.5, 1.0, 'Female vs Male Distribution')"
      ]
     },
     "execution_count": 15,
     "metadata": {},
     "output_type": "execute_result"
    },
    {
     "data": {
      "image/png": "[encoded data removed]",
      "text/plain": [
       "<Figure size 432x288 with 1 Axes>"
      ]
     },
     "metadata": {},
     "output_type": "display_data"
    }
   ],
   "source": [
    "# Generate a pie plot showing the distribution of female versus male mice using pyplot\n",
    "\n",
    "mice_sex_df=pd.DataFrame(training_data_copy['Sex'].value_counts())\n",
    "mice_sex_df.reset_index(inplace=True)\n",
    "mice_sex_df.columns=[\"Sex\",\"Count\"]\n",
    "#mice_sex_df.head()\n",
    "\n",
    "#Plot graph\n",
    "plt.pie(mice_sex_df[\"Count\"],labels=mice_sex_df[\"Sex\"],colors=colors\n",
    "       ,autopct=\"%1.2f%%\", shadow=True, startangle=140)\n",
    "\n",
    "# Create axes which are equal so we have a perfect circle\n",
    "plt.axis(\"equal\")\n",
    "\n",
    "#Set x-label, y-label and title for the chart\n",
    "plt.title(\"Female vs Male Distribution\")\n"
   ]
  },
  {
   "cell_type": "markdown",
   "metadata": {},
   "source": [
    "## Quartiles, Outliers and Boxplots"
   ]
  },
  {
   "cell_type": "code",
   "execution_count": 16,
   "metadata": {},
   "outputs": [
    {
     "name": "stdout",
     "output_type": "stream",
     "text": [
      "The value of lower quartile is: 32.37735684\n",
      "The value of upper quartile is: 40.1592203\n",
      "The value of Inter-quartile range is: 7.781863460000004\n",
      "The values above 51.83201549 and below 20.70456164999999 are outliers\n",
      "No outlier in Capomulin\n",
      "---------------------------------------------------------------------\n",
      "\n",
      "The value of lower quartile is: 31.56046955\n",
      "The value of upper quartile is: 40.65900627\n",
      "The value of Inter-quartile range is: 9.098536719999998\n",
      "The values above 54.30681135 and below 17.912664470000003 are outliers\n",
      "No outlier in Ramicane\n",
      "---------------------------------------------------------------------\n",
      "\n",
      "The value of lower quartile is: 54.04860769\n",
      "The value of upper quartile is: 65.52574285\n",
      "The value of Inter-quartile range is: 11.477135160000003\n",
      "The values above 82.74144559000001 and below 36.83290494999999 are outliers\n",
      "Mouse id: c326 in Drug Regimen Infubinol is an outlier with tumor volume: 36.321345799999996\n",
      "---------------------------------------------------------------------\n",
      "\n",
      "The value of lower quartile is: 48.72207785\n",
      "The value of upper quartile is: 64.29983003\n",
      "The value of Inter-quartile range is: 15.577752179999997\n",
      "The values above 87.66645829999999 and below 25.355449580000002 are outliers\n",
      "No outlier in Ceftamin\n",
      "---------------------------------------------------------------------\n",
      "\n"
     ]
    }
   ],
   "source": [
    "# Calculate the final tumor volume of each mouse across four of the most promising treatment regimens. Calculate the IQR and quantitatively determine if there are any potential outliers. \n",
    "\n",
    "best_regimen=['Capomulin','Ramicane','Infubinol','Ceftamin']\n",
    "\n",
    "#create dataframe that contains data for 4 most promising treatment regimens:Capomulin, Ramicane, Infubinol, and Ceftamin\n",
    "tumor_vol_best_df=training_data_copy.loc[(training_data_copy['Drug Regimen'].isin (best_regimen))]\\\n",
    "                                        .groupby([\"Mouse ID\",\"Drug Regimen\"]).last().reset_index()\n",
    "\n",
    "for i in range(len(best_regimen)):\n",
    "\n",
    "    #Sort the values on Tumor Volume\n",
    "    tumor_vol_best_sorted_df=tumor_vol_best_df.loc[tumor_vol_best_df[\"Drug Regimen\"]==best_regimen[i]].sort_values(\"TumorVolume\")\n",
    "    #Calculate quartiles and inter-quartile range\n",
    "    quartiles=tumor_vol_best_sorted_df[\"TumorVolume\"].quantile([0.25,0.5,0.75])\n",
    "    lowerq=quartiles[0.25]\n",
    "    upperq=quartiles[0.75]\n",
    "    iqr=upperq-lowerq\n",
    "\n",
    "    print(f\"The value of lower quartile is: {lowerq}\")\n",
    "\n",
    "    print(f\"The value of upper quartile is: {upperq}\")\n",
    "\n",
    "    print(f\"The value of Inter-quartile range is: {iqr}\")\n",
    "\n",
    "    #Calculate lower and upper boundary for whiskers and to identify values which are outliers\n",
    "    lower_bound=lowerq-(1.5*iqr)\n",
    "\n",
    "    upper_bound=upperq+(1.5*iqr)\n",
    "\n",
    "    print(f\"The values above {upper_bound} and below {lower_bound} are outliers\")\n",
    "\n",
    "    #Calculate outliers in the dataset\n",
    "    outliers_df=pd.DataFrame(tumor_vol_best_sorted_df.loc[(tumor_vol_best_sorted_df[\"TumorVolume\"]<lower_bound) | (tumor_vol_best_sorted_df[\"TumorVolume\"]>upper_bound)][[\"Mouse ID\",\"TumorVolume\",'Drug Regimen']])\n",
    "\n",
    "    len(outliers_df['Mouse ID'])\n",
    "\n",
    "    if (len(outliers_df['Mouse ID'])==0):\n",
    "        print(f\"No outlier in {best_regimen[i]}\" )\n",
    "    else:\n",
    "        for index in range(len(outliers_df['Mouse ID'])):\n",
    "            print(f\"Mouse id: {outliers_df.iloc[index]['Mouse ID']} in Drug Regimen {outliers_df.iloc[index]['Drug Regimen']} is an outlier with tumor volume: {outliers_df.iloc[index]['TumorVolume']}\")\n",
    "    \n",
    "    print(\"---------------------------------------------------------------------\\n\")"
   ]
  },
  {
   "cell_type": "code",
   "execution_count": 17,
   "metadata": {},
   "outputs": [
    {
     "data": {
      "image/png": "[encoded data removed]",
      "text/plain": [
       "<Figure size 720x288 with 1 Axes>"
      ]
     },
     "metadata": {
      "needs_background": "light"
     },
     "output_type": "display_data"
    }
   ],
   "source": [
    "# Generate a box plot of the final tumor volume of each mouse across four regimens of interest\n",
    "#Capomulin, Ramicane, Infubinol, and Ceftamin\n",
    "plt.figure(figsize=(10,4))\n",
    "plt.title('Final Tumor Volume for each mouse across four regimens of interest')\n",
    "plt.ylabel('Tumor Volume (mm3)')\n",
    "#print(tumor_vol_best_df[\"TumorVolume\"])\n",
    "#ax1.boxplot(tumor_vol_best_df[tumor_vol_best_df[\"Drug Regimen\"]==\"Capomulin\"][\"TumorVolume\"])\n",
    "\n",
    "filerprops = dict(markerfacecolor='g', marker='D')\n",
    "\n",
    "plt.boxplot([tumor_vol_best_df.loc[tumor_vol_best_df[\"Drug Regimen\"]=='Capomulin'][\"TumorVolume\"]\n",
    "            ,tumor_vol_best_df.loc[tumor_vol_best_df[\"Drug Regimen\"]=='Ramicane'][\"TumorVolume\"]\n",
    "            ,tumor_vol_best_df.loc[tumor_vol_best_df[\"Drug Regimen\"]=='Infubinol'][\"TumorVolume\"]\n",
    "            ,tumor_vol_best_df.loc[tumor_vol_best_df[\"Drug Regimen\"]=='Ceftamin'][\"TumorVolume\"]\n",
    "            ], flierprops=filerprops\n",
    "           )\n",
    "plt.xticks(range(1,5),best_regimen, rotation=15)\n",
    "\n",
    "\n",
    "plt.show()"
   ]
  },
  {
   "cell_type": "markdown",
   "metadata": {},
   "source": [
    "## Line and Scatter Plots"
   ]
  },
  {
   "cell_type": "code",
   "execution_count": 18,
   "metadata": {},
   "outputs": [
    {
     "data": {
      "image/png": "[encoded data removed]",
      "text/plain": [
       "<Figure size 720x288 with 1 Axes>"
      ]
     },
     "metadata": {
      "needs_background": "light"
     },
     "output_type": "display_data"
    }
   ],
   "source": [
    "# Generate a line plot of time point versus tumor volume for a mouse treated with Capomulin\n",
    "#training_data_copy.columns\n",
    "#List of mouse ids treated with Capmoulin\n",
    "mouse_list_capomulin=[mouse for mouse in training_data_copy.loc[(training_data_copy['Drug Regimen']=='Capomulin')][\"Mouse ID\"].unique()]\n",
    "#mouse_list_capomulin\n",
    "\n",
    "#Dataframe of data treated with Capomulin for a MouseID containing columns Timepoint and Tumor Volume\n",
    "tumor_vol_timepoint_capomulin_df=training_data_copy.loc[(training_data_copy['Drug Regimen']=='Capomulin')\n",
    "                                                        &(training_data_copy['Mouse ID']==mouse_list_capomulin[0])]\\\n",
    "                                                        [['Timepoint','TumorVolume']].reset_index(drop=True)\n",
    "#tumor_vol_timepoint_capomulin_df\n",
    "\n",
    "#Defining size of plot\n",
    "plt.figure(figsize=(10,4))\n",
    "\n",
    "#Line plot for timepoint vs tumor Volume for a mouse treated with Campolin\n",
    "mouse_drug,=plt.plot(tumor_vol_timepoint_capomulin_df[\"Timepoint\"],tumor_vol_timepoint_capomulin_df[\"TumorVolume\"]\n",
    "        ,color=\"red\"\n",
    "        ,label=mouse_list_capomulin[0]+\" - Capomulin\")\n",
    "\n",
    "#tumor_vol_timepoint_capomulin_df[\"Timepoint\"]\n",
    "\n",
    "#Set x-label, y-label and title for the chart\n",
    "plt.title(f\"Time Point vs Tumor Volume for Mouse: {mouse_list_capomulin[0]} and Treatment: Capomulin\")\n",
    "plt.xlabel(\"Time Point\")\n",
    "plt.ylabel(\"Tumor Volume (mm3)\")\n",
    "plt.xticks(np.arange(min(tumor_vol_timepoint_capomulin_df[\"Timepoint\"]),max(tumor_vol_timepoint_capomulin_df[\"Timepoint\"])+5,5))\n",
    "\n",
    "#Add grid lines\n",
    "plt.grid()\n",
    "\n",
    "#Set location for labels\n",
    "plt.legend(handles=[mouse_drug],loc=\"best\")\n",
    "\n",
    "#Set xlim and ylim\n",
    "plt.xlim(min(tumor_vol_timepoint_capomulin_df[\"Timepoint\"]),max(tumor_vol_timepoint_capomulin_df[\"Timepoint\"])+5)\n",
    "plt.ylim(min(tumor_vol_timepoint_capomulin_df[\"TumorVolume\"])-5,max(tumor_vol_timepoint_capomulin_df[\"TumorVolume\"])+5)\n",
    "\n",
    "#Fit the chart\n",
    "plt.tight_layout()\n",
    "\n",
    "plt.show()\n"
   ]
  },
  {
   "cell_type": "code",
   "execution_count": 19,
   "metadata": {},
   "outputs": [
    {
     "data": {
      "image/png": "[encoded data removed]",
      "text/plain": [
       "<Figure size 720x288 with 1 Axes>"
      ]
     },
     "metadata": {
      "needs_background": "light"
     },
     "output_type": "display_data"
    }
   ],
   "source": [
    "# Generate a scatter plot of mouse weight versus average tumor volume for the Capomulin regimen\n",
    "\n",
    "#training_data_copy.columns\n",
    "\n",
    "#Dataframe of data treated with Capomulin for all mouse containing columns Weight (g) and Tumor Volume\n",
    "tumor_vol_weight_capomulin_df= training_data_copy.loc[(training_data_copy['Drug Regimen']=='Capomulin')]\\\n",
    "                            .groupby(\"Mouse ID\").mean()\n",
    "\n",
    "#tumor_vol_weight_capomulin_df\n",
    "\n",
    "plt.figure(figsize=(10,4))\n",
    "\n",
    "#Scatter plot of mouse weight versus average tumor volume for the Capomulin regimen\n",
    "plt.scatter(tumor_vol_weight_capomulin_df[\"Weight (g)\"],tumor_vol_weight_capomulin_df[\"TumorVolume\"],\n",
    "            marker=\"o\", facecolors=\"red\", edgecolors=\"black\")\n",
    "\n",
    "#Set x-label, y-label and title for the chart\n",
    "plt.title(\"Mouse Weight vs Average Tumor Volume for Treatment: Capomulin\")\n",
    "plt.xlabel(\"Mouse Weight (g)\")\n",
    "plt.ylabel(\"Average Tumor Volume (mm3)\")\n",
    "plt.xticks(np.arange(min(tumor_vol_weight_capomulin_df[\"Weight (g)\"]),max(tumor_vol_weight_capomulin_df[\"Weight (g)\"])+1,1))\n",
    "\n",
    "#Set xlim and ylim\n",
    "plt.xlim(min(tumor_vol_weight_capomulin_df[\"Weight (g)\"])-1,max(tumor_vol_weight_capomulin_df[\"Weight (g)\"])+1)\n",
    "plt.ylim(min(tumor_vol_weight_capomulin_df[\"TumorVolume\"])-5,max(tumor_vol_weight_capomulin_df[\"TumorVolume\"])+5)\n",
    "\n",
    "\n",
    "plt.grid()\n",
    "\n",
    "#Fit the chart\n",
    "plt.tight_layout()\n",
    "\n",
    "plt.show()\n",
    "\n",
    "\n",
    "\n"
   ]
  },
  {
   "cell_type": "markdown",
   "metadata": {},
   "source": [
    "## Correlation and Regression"
   ]
  },
  {
   "cell_type": "code",
   "execution_count": 20,
   "metadata": {},
   "outputs": [
    {
     "name": "stdout",
     "output_type": "stream",
     "text": [
      "The correlation coefficient is 0.84\n"
     ]
    },
    {
     "data": {
      "image/png": "[encoded data removed]",
      "text/plain": [
       "<Figure size 432x288 with 1 Axes>"
      ]
     },
     "metadata": {
      "needs_background": "light"
     },
     "output_type": "display_data"
    }
   ],
   "source": [
    "# Calculate the correlation coefficient and linear regression model \n",
    "# for mouse weight and average tumor volume for the Capomulin regimen\n",
    "\n",
    "mouse_weight=tumor_vol_weight_capomulin_df[\"Weight (g)\"]\n",
    "avg_tumor_vol=tumor_vol_weight_capomulin_df[\"TumorVolume\"]\n",
    "correlation = st.pearsonr(mouse_weight,avg_tumor_vol)\n",
    "print(f\"The correlation coefficient is {round(correlation[0],2)}\")\n",
    "\n",
    "# Perform a linear regression on mouse weight versus Average Tumor Volume\n",
    "slope, intercept, r, p, std_err = st.linregress(mouse_weight, avg_tumor_vol)\n",
    "\n",
    "# Create equation of line\n",
    "fit = slope * mouse_weight + intercept\n",
    "\n",
    "line_eq = \"y = \" + str(round(slope,2)) + \"x + \" + str(round(intercept,2))\n",
    "\n",
    "\n",
    "#Scatter plot of mouse weight versus average tumor volume for the Capomulin regimen\n",
    "plt.scatter(tumor_vol_weight_capomulin_df[\"Weight (g)\"],tumor_vol_weight_capomulin_df[\"TumorVolume\"],\n",
    "            marker=\"o\", facecolors=\"red\", edgecolors=\"black\")\n",
    "\n",
    "#Plot linear regression\n",
    "\n",
    "plt.plot(mouse_weight,fit,\"--\")\n",
    "\n",
    "#Show linear regression equation\n",
    "\n",
    "plt.annotate(line_eq,(0,30),fontsize=15,color=\"red\")\n",
    "\n",
    "#Set x-label, y-label and title for the chart\n",
    "plt.title(\"Mouse Weight vs Average Tumor Volume for Treatment: Capomulin\")\n",
    "plt.xlabel(\"Mouse Weight (g)\")\n",
    "plt.ylabel(\"Average Tumor Volume (mm3)\")\n",
    "plt.xticks(np.arange(min(tumor_vol_weight_capomulin_df[\"Weight (g)\"]),max(tumor_vol_weight_capomulin_df[\"Weight (g)\"])+1,1))\n",
    "\n",
    "#Set xlim and ylim\n",
    "plt.xlim(min(tumor_vol_weight_capomulin_df[\"Weight (g)\"])-1,max(tumor_vol_weight_capomulin_df[\"Weight (g)\"])+1)\n",
    "plt.ylim(min(tumor_vol_weight_capomulin_df[\"TumorVolume\"])-5,max(tumor_vol_weight_capomulin_df[\"TumorVolume\"])+5)\n",
    "\n",
    "\n",
    "plt.grid()\n",
    "\n",
    "\n",
    "plt.show()\n",
    "\n"
   ]
  },
  {
   "cell_type": "code",
   "execution_count": null,
   "metadata": {},
   "outputs": [],
   "source": []
  }
 ],
 "metadata": {
  "anaconda-cloud": {},
  "kernelspec": {
   "display_name": "Python 3",
   "language": "python",
   "name": "python3"
  },
  "language_info": {
   "codemirror_mode": {
    "name": "ipython",
    "version": 3
   },
   "file_extension": ".py",
   "mimetype": "text/x-python",
   "name": "python",
   "nbconvert_exporter": "python",
   "pygments_lexer": "ipython3",
   "version": "3.7.6"
  }
 },
 "nbformat": 4,
 "nbformat_minor": 2
}
